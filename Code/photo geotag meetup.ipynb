{
 "cells": [
  {
   "cell_type": "markdown",
   "metadata": {},
   "source": [
    "# Roadmap\n",
    "\n",
    "I'm a somewhat amateur photographer with a bad memory of where photos were taken. When we take photos w/ a smartphone, the GPS on the phone records the location where the photo is taken.\n",
    "\n",
    "However, I take a lot of photos w/ this thing...\n",
    "<img src=\"https://multimedia.bbycastatic.ca/multimedia/products/500x500/103/10347/10347557.jpg\" alt=\"camera\" style=\"width: 200px;\"/>\n",
    "\n",
    "This thing doesn't have a built in GPS chip, so locations of the photos are not stored by default :(\n",
    "\n",
    "Fortunately, I almost always have my phone with me, and I'm not too worried about privacy so I let Google track my location.\n",
    "![Location History](https://www.dropbox.com/s/7f6m4qsktwj4qyp/locationhistory_1.png?dl=1)\n",
    "\n",
    "We can combine the time information from the camera with the Google location history timestamps to add back our geo data.\n",
    "\n",
    "**The plan of this notebook is to do the following:**\n",
    "\n",
    "1. Read in and parse JSON format Google location data (download location history from\n",
    "[https://takeout.google.com/settings/takeout](https://takeout.google.com/settings/takeout))\n",
    "<img src=\"https://www.dropbox.com/s/apmdvqhujr375mx/locationhistory_0.png?dl=1\" alt=\"camera\" style=\"width: 500px;\"/>\n",
    "2. Read in meta data from your photos using exifread package\n",
    "\n",
    "3. Match photos to google location based on closest timestamp\n",
    "\n",
    "4. Map the data using folium\n",
    "\n",
    "5. Resize matched images, save in new folder.\n",
    "\n",
    "6. Add photos to map.\n",
    "\n"
   ]
  },
  {
   "cell_type": "code",
   "execution_count": 12,
   "metadata": {
    "collapsed": false
   },
   "outputs": [],
   "source": [
    "import os\n",
    "import pandas as pd\n",
    "import datetime\n",
    "import matplotlib.pyplot as plt\n",
    "%matplotlib inline\n",
    "import re\n",
    "import numpy as np\n",
    "import exifread # pip install exifread"
   ]
  },
  {
   "cell_type": "markdown",
   "metadata": {},
   "source": [
    "# Read google data"
   ]
  },
  {
   "cell_type": "code",
   "execution_count": 13,
   "metadata": {
    "collapsed": false
   },
   "outputs": [],
   "source": [
    "import json\n",
    "with open('../google_data/Location History/LocationHistory.json') as fi:\n",
    "    f = fi.read()\n",
    "f = json.loads(f)"
   ]
  },
  {
   "cell_type": "code",
   "execution_count": 14,
   "metadata": {
    "collapsed": false
   },
   "outputs": [
    {
     "data": {
      "text/plain": [
       "[{u'accuracy': 20,\n",
       "  u'latitudeE7': 297180613,\n",
       "  u'longitudeE7': -953737224,\n",
       "  u'timestampMs': u'1462165225626'},\n",
       " {u'accuracy': 36,\n",
       "  u'latitudeE7': 297181054,\n",
       "  u'longitudeE7': -953737030,\n",
       "  u'timestampMs': u'1462165163009'}]"
      ]
     },
     "execution_count": 14,
     "metadata": {},
     "output_type": "execute_result"
    }
   ],
   "source": [
    "f['locations'][:2] # data organized as such"
   ]
  },
  {
   "cell_type": "code",
   "execution_count": 15,
   "metadata": {
    "collapsed": false
   },
   "outputs": [],
   "source": [
    "loc = f['locations']\n",
    "loc = pd.DataFrame(loc)\n",
    "loc['timestamp'] = loc.timestampMs.apply(lambda x: datetime.datetime.fromtimestamp(float(x)/1000).strftime('%Y-%m-%d %H:%M:%S.%f'))\n",
    "loc['timestamp'] = pd.to_datetime(loc.timestamp)\n",
    "loc['date'] = loc.timestamp.apply(lambda x: datetime.date(x.year, x.month, x.day))\n",
    "loc['long'] = loc.longitudeE7.apply(lambda x: x/1e7)\n",
    "loc['lat'] = loc.latitudeE7.apply(lambda x: x/1e7)"
   ]
  },
  {
   "cell_type": "code",
   "execution_count": 16,
   "metadata": {
    "collapsed": false
   },
   "outputs": [
    {
     "data": {
      "text/html": [
       "<div>\n",
       "<style>\n",
       "    .dataframe thead tr:only-child th {\n",
       "        text-align: right;\n",
       "    }\n",
       "\n",
       "    .dataframe thead th {\n",
       "        text-align: left;\n",
       "    }\n",
       "\n",
       "    .dataframe tbody tr th {\n",
       "        vertical-align: top;\n",
       "    }\n",
       "</style>\n",
       "<table border=\"1\" class=\"dataframe\">\n",
       "  <thead>\n",
       "    <tr style=\"text-align: right;\">\n",
       "      <th></th>\n",
       "      <th>accuracy</th>\n",
       "      <th>activitys</th>\n",
       "      <th>altitude</th>\n",
       "      <th>heading</th>\n",
       "      <th>latitudeE7</th>\n",
       "      <th>longitudeE7</th>\n",
       "      <th>timestampMs</th>\n",
       "      <th>velocity</th>\n",
       "      <th>timestamp</th>\n",
       "      <th>date</th>\n",
       "      <th>long</th>\n",
       "      <th>lat</th>\n",
       "    </tr>\n",
       "  </thead>\n",
       "  <tbody>\n",
       "    <tr>\n",
       "      <th>0</th>\n",
       "      <td>20</td>\n",
       "      <td>NaN</td>\n",
       "      <td>NaN</td>\n",
       "      <td>NaN</td>\n",
       "      <td>297180613</td>\n",
       "      <td>-953737224</td>\n",
       "      <td>1462165225626</td>\n",
       "      <td>NaN</td>\n",
       "      <td>2016-05-01 23:00:25.626</td>\n",
       "      <td>2016-05-01</td>\n",
       "      <td>-95.373722</td>\n",
       "      <td>29.718061</td>\n",
       "    </tr>\n",
       "    <tr>\n",
       "      <th>1</th>\n",
       "      <td>36</td>\n",
       "      <td>NaN</td>\n",
       "      <td>NaN</td>\n",
       "      <td>NaN</td>\n",
       "      <td>297181054</td>\n",
       "      <td>-953737030</td>\n",
       "      <td>1462165163009</td>\n",
       "      <td>NaN</td>\n",
       "      <td>2016-05-01 22:59:23.009</td>\n",
       "      <td>2016-05-01</td>\n",
       "      <td>-95.373703</td>\n",
       "      <td>29.718105</td>\n",
       "    </tr>\n",
       "    <tr>\n",
       "      <th>2</th>\n",
       "      <td>32</td>\n",
       "      <td>NaN</td>\n",
       "      <td>NaN</td>\n",
       "      <td>NaN</td>\n",
       "      <td>297181364</td>\n",
       "      <td>-953736852</td>\n",
       "      <td>1462165102912</td>\n",
       "      <td>NaN</td>\n",
       "      <td>2016-05-01 22:58:22.912</td>\n",
       "      <td>2016-05-01</td>\n",
       "      <td>-95.373685</td>\n",
       "      <td>29.718136</td>\n",
       "    </tr>\n",
       "    <tr>\n",
       "      <th>3</th>\n",
       "      <td>20</td>\n",
       "      <td>NaN</td>\n",
       "      <td>NaN</td>\n",
       "      <td>NaN</td>\n",
       "      <td>297180538</td>\n",
       "      <td>-953737277</td>\n",
       "      <td>1462165042754</td>\n",
       "      <td>NaN</td>\n",
       "      <td>2016-05-01 22:57:22.754</td>\n",
       "      <td>2016-05-01</td>\n",
       "      <td>-95.373728</td>\n",
       "      <td>29.718054</td>\n",
       "    </tr>\n",
       "    <tr>\n",
       "      <th>4</th>\n",
       "      <td>20</td>\n",
       "      <td>NaN</td>\n",
       "      <td>NaN</td>\n",
       "      <td>NaN</td>\n",
       "      <td>297180468</td>\n",
       "      <td>-953737299</td>\n",
       "      <td>1462164982486</td>\n",
       "      <td>NaN</td>\n",
       "      <td>2016-05-01 22:56:22.486</td>\n",
       "      <td>2016-05-01</td>\n",
       "      <td>-95.373730</td>\n",
       "      <td>29.718047</td>\n",
       "    </tr>\n",
       "  </tbody>\n",
       "</table>\n",
       "</div>"
      ],
      "text/plain": [
       "   accuracy activitys  altitude  heading  latitudeE7  longitudeE7  \\\n",
       "0        20       NaN       NaN      NaN   297180613   -953737224   \n",
       "1        36       NaN       NaN      NaN   297181054   -953737030   \n",
       "2        32       NaN       NaN      NaN   297181364   -953736852   \n",
       "3        20       NaN       NaN      NaN   297180538   -953737277   \n",
       "4        20       NaN       NaN      NaN   297180468   -953737299   \n",
       "\n",
       "     timestampMs  velocity               timestamp        date       long  \\\n",
       "0  1462165225626       NaN 2016-05-01 23:00:25.626  2016-05-01 -95.373722   \n",
       "1  1462165163009       NaN 2016-05-01 22:59:23.009  2016-05-01 -95.373703   \n",
       "2  1462165102912       NaN 2016-05-01 22:58:22.912  2016-05-01 -95.373685   \n",
       "3  1462165042754       NaN 2016-05-01 22:57:22.754  2016-05-01 -95.373728   \n",
       "4  1462164982486       NaN 2016-05-01 22:56:22.486  2016-05-01 -95.373730   \n",
       "\n",
       "         lat  \n",
       "0  29.718061  \n",
       "1  29.718105  \n",
       "2  29.718136  \n",
       "3  29.718054  \n",
       "4  29.718047  "
      ]
     },
     "execution_count": 16,
     "metadata": {},
     "output_type": "execute_result"
    }
   ],
   "source": [
    "loc.head()"
   ]
  },
  {
   "cell_type": "code",
   "execution_count": 17,
   "metadata": {
    "collapsed": false
   },
   "outputs": [
    {
     "data": {
      "text/plain": [
       "<matplotlib.collections.PathCollection at 0x752aaf28>"
      ]
     },
     "execution_count": 17,
     "metadata": {},
     "output_type": "execute_result"
    },
    {
     "data": {
      "image/png": "[encoded data removed]",
      "text/plain": [
       "<matplotlib.figure.Figure at 0x2c6f0748>"
      ]
     },
     "metadata": {},
     "output_type": "display_data"
    }
   ],
   "source": [
    "loc_days = loc.groupby('date')[['long', 'lat']].mean()\n",
    "plt.scatter(loc_days['long'], loc_days['lat'], s = 5, alpha = .5)"
   ]
  },
  {
   "cell_type": "markdown",
   "metadata": {},
   "source": [
    "# read exif data "
   ]
  },
  {
   "cell_type": "code",
   "execution_count": 19,
   "metadata": {
    "collapsed": false
   },
   "outputs": [],
   "source": [
    "flist = ['../JPEGs/flickr/'+f for f in os.listdir('../JPEGs/flickr')]\n",
    "fnames = [f for f in os.listdir('../JPEGs/flickr')]"
   ]
  },
  {
   "cell_type": "code",
   "execution_count": 20,
   "metadata": {
    "collapsed": false
   },
   "outputs": [],
   "source": [
    "captimes = list()\n",
    "for fi in flist:\n",
    "    with open(fi, 'r') as f:\n",
    "        tags = exifread.process_file(f)\n",
    "        try:\n",
    "            captime = str(tags['EXIF DateTimeOriginal'])\n",
    "            captime = datetime.datetime.strptime(captime, '%Y:%m:%d %H:%M:%S')\n",
    "        except:\n",
    "            captime = pd.NaT\n",
    "        captimes.append(captime)\n",
    "captimes = pd.to_datetime(captimes)\n",
    "df = pd.DataFrame(list(zip(fnames, captimes)))\n",
    "df.columns = ['fname','timestamp']\n",
    "# DF.append(df)\n",
    "df['fpath'] = flist\n",
    "df['thumbs_rel'] = df.loc[:, 'fpath'].apply(lambda x: '../JPEGs/flickr_resized/'+re.findall('flickr/([^\\.]+\\.[^ ]+)', x)[0])\n",
    "df['thumbs'] = df.loc[:, 'fpath'].apply(lambda x: x.replace('/flickr/', '/flickr_resized/'))"
   ]
  },
  {
   "cell_type": "markdown",
   "metadata": {},
   "source": [
    "# match photo catalog to geotags"
   ]
  },
  {
   "cell_type": "code",
   "execution_count": 22,
   "metadata": {
    "collapsed": false
   },
   "outputs": [],
   "source": [
    "loc.sort_values(by = ['timestamp'], inplace = True)\n",
    "loctimes = list(loc.timestamp)\n",
    "indices = list(loc.index)"
   ]
  },
  {
   "cell_type": "code",
   "execution_count": 23,
   "metadata": {
    "collapsed": false
   },
   "outputs": [],
   "source": [
    "ind = np.argmin(np.absolute(np.array(loctimes)-df.timestamp[0])) # example: find closest index for first photo"
   ]
  },
  {
   "cell_type": "code",
   "execution_count": 24,
   "metadata": {
    "collapsed": false
   },
   "outputs": [
    {
     "data": {
      "text/plain": [
       "long   -95.3738\n",
       "lat      29.718\n",
       "Name: 78313, dtype: object"
      ]
     },
     "execution_count": 24,
     "metadata": {},
     "output_type": "execute_result"
    }
   ],
   "source": [
    "loc.loc[ind, ['long', 'lat']] # the corresponding location "
   ]
  },
  {
   "cell_type": "code",
   "execution_count": 26,
   "metadata": {
    "collapsed": true
   },
   "outputs": [],
   "source": [
    "from bisect import bisect_left # use bisection method to find closest time match \n",
    "\n",
    "# note that numpy also has a search sorted method that does the same thing as the takeClosest function\n",
    "\n",
    "def takeClosest(myList, myNumber):\n",
    "    \"\"\"\n",
    "    Assumes myList is sorted. Returns closest value to myNumber.\n",
    "\n",
    "    If two numbers are equally close, return the smallest number.\n",
    "    \"\"\"\n",
    "    pos = bisect_left(myList, myNumber)\n",
    "    if pos == 0:\n",
    "        return myList[0]\n",
    "    if pos == len(myList):\n",
    "        return myList[-1]\n",
    "    before = myList[pos - 1]\n",
    "    after = myList[pos]\n",
    "    if after - myNumber < myNumber - before: # if the timestamp after is closer than timestamp before, return after position\n",
    "        return pos\n",
    "    else: # otherwise return before position\n",
    "        return pos-1"
   ]
  },
  {
   "cell_type": "code",
   "execution_count": 27,
   "metadata": {
    "collapsed": false
   },
   "outputs": [],
   "source": [
    "if 1==1: # This may take some time to run, note, we can do this in parallel which would speed it up ~p times, where p is the numer of virtual processors\n",
    "    df.loc[-df.timestamp.isnull(), 'locpos'] = df.loc[-df.timestamp.isnull(), \n",
    "                                                      'timestamp'].apply(lambda x: takeClosest(sorted(loctimes),x)-1)\n",
    "else:\n",
    "    pass"
   ]
  },
  {
   "cell_type": "code",
   "execution_count": 14,
   "metadata": {
    "collapsed": false
   },
   "outputs": [],
   "source": [
    "lnglats = loc[['long', 'lat', 'timestamp']].to_dict()"
   ]
  },
  {
   "cell_type": "code",
   "execution_count": 29,
   "metadata": {
    "collapsed": false
   },
   "outputs": [],
   "source": [
    "df.loc[-df.locpos.isnull(), 'locpos'] = df.loc[-df.locpos.isnull(), 'locpos'].apply(lambda x: indices[int(x)])"
   ]
  },
  {
   "cell_type": "code",
   "execution_count": 32,
   "metadata": {
    "collapsed": false
   },
   "outputs": [
    {
     "data": {
      "text/html": [
       "<div>\n",
       "<style>\n",
       "    .dataframe thead tr:only-child th {\n",
       "        text-align: right;\n",
       "    }\n",
       "\n",
       "    .dataframe thead th {\n",
       "        text-align: left;\n",
       "    }\n",
       "\n",
       "    .dataframe tbody tr th {\n",
       "        vertical-align: top;\n",
       "    }\n",
       "</style>\n",
       "<table border=\"1\" class=\"dataframe\">\n",
       "  <thead>\n",
       "    <tr style=\"text-align: right;\">\n",
       "      <th></th>\n",
       "      <th>index</th>\n",
       "      <th>accuracy</th>\n",
       "      <th>activitys</th>\n",
       "      <th>altitude</th>\n",
       "      <th>heading</th>\n",
       "      <th>latitudeE7</th>\n",
       "      <th>longitudeE7</th>\n",
       "      <th>timestampMs</th>\n",
       "      <th>velocity</th>\n",
       "      <th>timestamp</th>\n",
       "      <th>date</th>\n",
       "      <th>long</th>\n",
       "      <th>lat</th>\n",
       "    </tr>\n",
       "  </thead>\n",
       "  <tbody>\n",
       "    <tr>\n",
       "      <th>0</th>\n",
       "      <td>887279</td>\n",
       "      <td>45</td>\n",
       "      <td>NaN</td>\n",
       "      <td>NaN</td>\n",
       "      <td>NaN</td>\n",
       "      <td>297127358</td>\n",
       "      <td>-953652635</td>\n",
       "      <td>1390861889886</td>\n",
       "      <td>NaN</td>\n",
       "      <td>2014-01-27 15:31:29.886</td>\n",
       "      <td>2014-01-27</td>\n",
       "      <td>-95.365263</td>\n",
       "      <td>29.712736</td>\n",
       "    </tr>\n",
       "    <tr>\n",
       "      <th>1</th>\n",
       "      <td>887278</td>\n",
       "      <td>31</td>\n",
       "      <td>[{u'activities': [{u'confidence': 50, u'type':...</td>\n",
       "      <td>NaN</td>\n",
       "      <td>NaN</td>\n",
       "      <td>297127175</td>\n",
       "      <td>-953652558</td>\n",
       "      <td>1390861904207</td>\n",
       "      <td>NaN</td>\n",
       "      <td>2014-01-27 15:31:44.207</td>\n",
       "      <td>2014-01-27</td>\n",
       "      <td>-95.365256</td>\n",
       "      <td>29.712718</td>\n",
       "    </tr>\n",
       "    <tr>\n",
       "      <th>2</th>\n",
       "      <td>887277</td>\n",
       "      <td>61</td>\n",
       "      <td>NaN</td>\n",
       "      <td>NaN</td>\n",
       "      <td>NaN</td>\n",
       "      <td>297126759</td>\n",
       "      <td>-953652556</td>\n",
       "      <td>1390861951332</td>\n",
       "      <td>NaN</td>\n",
       "      <td>2014-01-27 15:32:31.332</td>\n",
       "      <td>2014-01-27</td>\n",
       "      <td>-95.365256</td>\n",
       "      <td>29.712676</td>\n",
       "    </tr>\n",
       "    <tr>\n",
       "      <th>3</th>\n",
       "      <td>887276</td>\n",
       "      <td>4</td>\n",
       "      <td>[{u'activities': [{u'confidence': 100, u'type'...</td>\n",
       "      <td>-13.0</td>\n",
       "      <td>NaN</td>\n",
       "      <td>297127660</td>\n",
       "      <td>-953653252</td>\n",
       "      <td>1390861993918</td>\n",
       "      <td>0.0</td>\n",
       "      <td>2014-01-27 15:33:13.918</td>\n",
       "      <td>2014-01-27</td>\n",
       "      <td>-95.365325</td>\n",
       "      <td>29.712766</td>\n",
       "    </tr>\n",
       "    <tr>\n",
       "      <th>4</th>\n",
       "      <td>887275</td>\n",
       "      <td>3</td>\n",
       "      <td>NaN</td>\n",
       "      <td>-13.0</td>\n",
       "      <td>NaN</td>\n",
       "      <td>297127657</td>\n",
       "      <td>-953653224</td>\n",
       "      <td>1390862005879</td>\n",
       "      <td>0.0</td>\n",
       "      <td>2014-01-27 15:33:25.879</td>\n",
       "      <td>2014-01-27</td>\n",
       "      <td>-95.365322</td>\n",
       "      <td>29.712766</td>\n",
       "    </tr>\n",
       "  </tbody>\n",
       "</table>\n",
       "</div>"
      ],
      "text/plain": [
       "    index  accuracy                                          activitys  \\\n",
       "0  887279        45                                                NaN   \n",
       "1  887278        31  [{u'activities': [{u'confidence': 50, u'type':...   \n",
       "2  887277        61                                                NaN   \n",
       "3  887276         4  [{u'activities': [{u'confidence': 100, u'type'...   \n",
       "4  887275         3                                                NaN   \n",
       "\n",
       "   altitude  heading  latitudeE7  longitudeE7    timestampMs  velocity  \\\n",
       "0       NaN      NaN   297127358   -953652635  1390861889886       NaN   \n",
       "1       NaN      NaN   297127175   -953652558  1390861904207       NaN   \n",
       "2       NaN      NaN   297126759   -953652556  1390861951332       NaN   \n",
       "3     -13.0      NaN   297127660   -953653252  1390861993918       0.0   \n",
       "4     -13.0      NaN   297127657   -953653224  1390862005879       0.0   \n",
       "\n",
       "                timestamp        date       long        lat  \n",
       "0 2014-01-27 15:31:29.886  2014-01-27 -95.365263  29.712736  \n",
       "1 2014-01-27 15:31:44.207  2014-01-27 -95.365256  29.712718  \n",
       "2 2014-01-27 15:32:31.332  2014-01-27 -95.365256  29.712676  \n",
       "3 2014-01-27 15:33:13.918  2014-01-27 -95.365325  29.712766  \n",
       "4 2014-01-27 15:33:25.879  2014-01-27 -95.365322  29.712766  "
      ]
     },
     "execution_count": 32,
     "metadata": {},
     "output_type": "execute_result"
    }
   ],
   "source": [
    "loc.reset_index(inplace = True)\n",
    "loc.head()"
   ]
  },
  {
   "cell_type": "code",
   "execution_count": 35,
   "metadata": {
    "collapsed": false
   },
   "outputs": [],
   "source": [
    "df = df.loc[~df.locpos.isnull(),:].merge(loc, how = 'left', left_on = 'locpos', right_on = 'index')"
   ]
  },
  {
   "cell_type": "markdown",
   "metadata": {
    "collapsed": false
   },
   "source": [
    "# Write location metadata to photos/ write thumbs for map"
   ]
  },
  {
   "cell_type": "code",
   "execution_count": 34,
   "metadata": {
    "collapsed": false,
    "scrolled": true
   },
   "outputs": [
    {
     "name": "stdout",
     "output_type": "stream",
     "text": [
      "0 completed out of 1313\n",
      "100 completed out of 1313\n",
      "200 completed out of 1313\n",
      "300 completed out of 1313\n",
      "400 completed out of 1313\n",
      "500 completed out of 1313\n",
      "600 completed out of 1313\n",
      "700 completed out of 1313\n",
      "800 completed out of 1313\n",
      "900 completed out of 1313\n",
      "1000 completed out of 1313\n",
      "1100 completed out of 1313\n",
      "1200 completed out of 1313\n",
      "1300 completed out of 1313\n"
     ]
    }
   ],
   "source": [
    "# make thumbnails\n",
    "from PIL import Image\n",
    "from resizeimage import resizeimage\n",
    "os.chdir('C://Users/yangyang2000/Dropbox/Photos/GeoTagging/JPEGs/flickr/')\n",
    "flist = os.listdir('.')\n",
    "for i, fi in enumerate(flist):\n",
    "    with open(fi, 'r+b') as f:\n",
    "        with Image.open(f) as image:\n",
    "            cover = resizeimage.resize_thumbnail(image, [400, 300])\n",
    "            cover.save('../flickr_resized/'+fi, image.format)\n",
    "    if i % 100 == 0:\n",
    "        print str(i)+ ' completed out of '+str(len(flist))"
   ]
  },
  {
   "cell_type": "code",
   "execution_count": null,
   "metadata": {
    "collapsed": false
   },
   "outputs": [],
   "source": []
  },
  {
   "cell_type": "markdown",
   "metadata": {
    "collapsed": false
   },
   "source": [
    "# Map/Visualize the data\n",
    "\n",
    "This requires package folium. Install using in command prompt/terminal:\n",
    "``pip install folium``"
   ]
  },
  {
   "cell_type": "code",
   "execution_count": 37,
   "metadata": {
    "collapsed": false
   },
   "outputs": [],
   "source": [
    "import folium"
   ]
  },
  {
   "cell_type": "code",
   "execution_count": 38,
   "metadata": {
    "collapsed": true
   },
   "outputs": [],
   "source": [
    "from folium.plugins import MarkerCluster"
   ]
  },
  {
   "cell_type": "code",
   "execution_count": 41,
   "metadata": {
    "collapsed": false
   },
   "outputs": [
    {
     "data": {
      "text/plain": [
       "array(['fname', 'timestamp_x', 'fpath', 'thumbs_rel', 'thumbs', 'locpos',\n",
       "       'index', u'accuracy', u'activitys', u'altitude', u'heading',\n",
       "       u'latitudeE7', u'longitudeE7', u'timestampMs', u'velocity',\n",
       "       'timestamp_y', 'date', 'long', 'lat'], dtype=object)"
      ]
     },
     "execution_count": 41,
     "metadata": {},
     "output_type": "execute_result"
    }
   ],
   "source": [
    "df.columns.values"
   ]
  },
  {
   "cell_type": "code",
   "execution_count": 40,
   "metadata": {
    "collapsed": false
   },
   "outputs": [],
   "source": [
    "lons = list(df.loc[-df.locpos.isnull(), 'long'])\n",
    "lats = list(df.loc[-df.locpos.isnull(), 'lat'])\n",
    "timestamp = list(df.loc[-df.locpos.isnull(), 'timestamp_x'])\n",
    "locations = list(zip(lats, lons))"
   ]
  },
  {
   "cell_type": "code",
   "execution_count": 47,
   "metadata": {
    "collapsed": false
   },
   "outputs": [],
   "source": [
    "bigphotos =list(df.fpath) \n",
    "popups = list(df.thumbs_rel)\n",
    "popups = ['<img src=\"' +f+ '\" alt=\"photo\">' for f in popups] # popups are html code"
   ]
  },
  {
   "cell_type": "code",
   "execution_count": 48,
   "metadata": {
    "collapsed": false
   },
   "outputs": [
    {
     "name": "stderr",
     "output_type": "stream",
     "text": [
      "C:\\Anaconda\\lib\\site-packages\\ipykernel\\__main__.py:3: FutureWarning: Method `add_children` is deprecated. Please use `add_child` instead.\n",
      "  app.launch_new_instance()\n"
     ]
    }
   ],
   "source": [
    "fotomap = folium.Map(location=[np.mean(lats), np.mean(lons)],\n",
    "                  tiles='Stamen Toner', zoom_start=1)\n",
    "fotomap.add_children(MarkerCluster(locations=locations, popups=popups))\n",
    "fotomap.save('./meetup_map.html') # Save map to this location"
   ]
  },
  {
   "cell_type": "code",
   "execution_count": null,
   "metadata": {
    "collapsed": false
   },
   "outputs": [],
   "source": []
  },
  {
   "cell_type": "markdown",
   "metadata": {},
   "source": [
    "# ToDo's...\n",
    "\n",
    "1. Need to adjust timestamp based on timezone... need to figure out what timezone my camera's set in first, just too lazy right now.\n",
    "2. Need to fix popup autosize... involves adding a leaflet function in javascript"
   ]
  },
  {
   "cell_type": "code",
   "execution_count": null,
   "metadata": {
    "collapsed": true
   },
   "outputs": [],
   "source": []
  }
 ],
 "metadata": {
  "kernelspec": {
   "display_name": "Python 2",
   "language": "python",
   "name": "python2"
  },
  "language_info": {
   "codemirror_mode": {
    "name": "ipython",
    "version": 2
   },
   "file_extension": ".py",
   "mimetype": "text/x-python",
   "name": "python",
   "nbconvert_exporter": "python",
   "pygments_lexer": "ipython2",
   "version": "2.7.14"
  }
 },
 "nbformat": 4,
 "nbformat_minor": 0
}
